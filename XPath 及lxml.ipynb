{
 "cells": [
  {
   "cell_type": "markdown",
   "metadata": {},
   "source": []
  },
  {
   "cell_type": "code",
   "execution_count": null,
   "metadata": {},
   "outputs": [],
   "source": [
    "from lxml import etree\n",
    "text='''\n",
    "\n",
    "<div class=\"lg_tbar_l\">\n",
    "            <a href=\"https://www.lagou.com/\" class=\"logo\"></a>\n",
    "            <ul class=\"lg_tbar_tabs\">\n",
    "                                <li >\n",
    "                    <a href=\"https://www.lagou.com/\" data-lg-tj-id=\"5i00\"\n",
    "                        data-lg-tj-no=\"idnull\" data-lg-tj-cid=\"idnull\">首页</a>\n",
    "                </li>\n",
    "                <li >\n",
    "                    <a href=\"https://www.lagou.com/gongsi/\" data-lg-tj-id=\"5j00\"\n",
    "                        data-lg-tj-no=\"idnull\" data-lg-tj-cid=\"idnull\" data-lg-tj-track-code=\"index_company\">公司</a>\n",
    "                </li>\n",
    "                <li>\n",
    "                    <a href=\"https://xiaoyuan.lagou.com/\" data-lg-tj-id=\"19xc\" data-lg-tj-no=\"idnull\"\n",
    "                        data-lg-tj-cid=\"idnull\" target=\"_blank\" data-lg-tj-track-code=\"index_campus\">校园招聘\n",
    "                    </a>\n",
    "                </li>\n",
    "                <li >\n",
    "                    <a href=\"https://www.lagou.com/zhaopin/\" data-lg-tj-id=\"4s00\" data-lg-tj-no=\"idnull\"\n",
    "                        data-lg-tj-cid=\"idnull\" data-lg-tj-track-code=\"index_zhaopin\">职位\n",
    "                    </a>\n",
    "                </li>\n",
    "                <li >\n",
    "                    <a href=\"https://yanzhi.lagou.com/\"\n",
    "                        data-lg-tj-id=\"ic00\" data-lg-tj-no=\"idnull\" data-lg-tj-cid=\"idnull\"\n",
    "                        data-lg-tj-track-code=\"index_yanzhi\">言职</a>\n",
    "                </li>\n",
    "                <li>\n",
    "                    <a href=\"https://kaiwu.lagou.com/\" data-lg-tj-id=\"1mua\" data-lg-tj-no=\"idnull\"\n",
    "                        data-lg-tj-cid=\"idnull\" data-lg-tj-track-code=\"index_kaiwu\" target=\"_blank\">课程<span class=\"tips-new\">new</span></a>\n",
    "                </li>\n",
    "                <li>\n",
    "                    <a href=\"https://www.lagou.com/app/download.html\" target=\"_blank\">APP</a>\n",
    "                </li>\n",
    "            </ul>\n",
    "        </div>\n",
    "        '''\n",
    "html = etree.HTML(text)\n",
    "result = etree.tostring(html)\n",
    "#print(result.decode('utf-8'))\n"
   ]
  },
  {
   "cell_type": "code",
   "execution_count": null,
   "metadata": {},
   "outputs": [],
   "source": [
    "from lxml import etree\n",
    "\n",
    "html = etree.parse('csdn.html', etree.HTMLParser(encoding='utf-8'))\n",
    "result = etree.tostring(html,encoding='utf-8')\n",
    "#print(result.decode('utf-8'))\n"
   ]
  },
  {
   "cell_type": "markdown",
   "metadata": {},
   "source": [
    "获取所有li标签\n",
    "//li\n",
    "xpath返回的是一个列表"
   ]
  },
  {
   "cell_type": "code",
   "execution_count": 1,
   "metadata": {},
   "outputs": [],
   "source": [
    "from lxml import etree\n",
    "\n",
    "html = etree.parse('tencent.html', etree.HTMLParser(encoding='utf-8'))\n",
    "html_data = html.xpath('//div[@class=\"recruit-list\"]')\n",
    "#for i in html_data:\n",
    " #   print(etree.tostring(i,encoding='utf-8').decode('utf-8'))\n",
    "\n",
    "#result = etree.tostring(html,encoding='utf-8')"
   ]
  },
  {
   "cell_type": "code",
   "execution_count": 2,
   "metadata": {},
   "outputs": [
    {
     "name": "stdout",
     "output_type": "stream",
     "text": [
      "<div data-v-288d7ecc=\"\" class=\"recruit-list\">&#13;\n",
      "    <a data-v-288d7ecc=\"\" class=\"recruit-list-link\">&#13;\n",
      "      <h4 data-v-288d7ecc=\"\" class=\"recruit-title\">31967-技术中台-后台开发</h4>&#13;\n",
      "      <p data-v-288d7ecc=\"\" class=\"recruit-tips\">&#13;\n",
      "        <span data-v-288d7ecc=\"\">IEG</span>|&#13;\n",
      "        <span data-v-288d7ecc=\"\">深圳,中国</span>|&#13;\n",
      "        <span data-v-288d7ecc=\"\">技术</span>|&#13;\n",
      "        <!---->&#13;\n",
      "        <span data-v-288d7ecc=\"\">2021年02月14日</span>&#13;\n",
      "      </p>&#13;\n",
      "      <p data-v-288d7ecc=\"\" class=\"recruit-text\">负责直播合作中心项目开发</p>&#13;\n",
      "    </a>&#13;\n",
      "    <div data-v-114c7c2f=\"\" data-v-288d7ecc=\"\" class=\"recruit-share\">&#13;\n",
      "      <div data-v-114c7c2f=\"\" class=\"recruit-content\">&#13;\n",
      "        <span data-v-114c7c2f=\"\" class=\"share\">&#13;\n",
      "        </span>&#13;\n",
      "        <span data-v-114c7c2f=\"\" class=\"share-text\">分享</span>&#13;\n",
      "        <div data-v-114c7c2f=\"\" id=\"share-detail\" class=\"share-list\">&#13;\n",
      "          <div data-v-114c7c2f=\"\" class=\"share-title\">分享</div>&#13;\n",
      "          <div data-v-114c7c2f=\"\" class=\"close-btn\">&#13;\n",
      "          </div>&#13;\n",
      "          <div data-v-114c7c2f=\"\" id=\"1318825301697896448\" class=\"qr-code\" style=\"display: none;\">&#13;\n",
      "          </div>&#13;\n",
      "          <ul data-v-114c7c2f=\"\" class=\"share-gound\">&#13;\n",
      "            <li data-v-114c7c2f=\"\" class=\"share-item\">&#13;\n",
      "              <a data-v-114c7c2f=\"\" href=\"\" target=\"_blank\" class=\"share-icon qq\">&#13;\n",
      "              </a>&#13;\n",
      "            </li>&#13;\n",
      "            <li data-v-114c7c2f=\"\" class=\"share-item\">&#13;\n",
      "              <a data-v-114c7c2f=\"\" href=\"javascript:;\" class=\"share-icon wechat\">&#13;\n",
      "              </a>&#13;\n",
      "            </li>&#13;\n",
      "            <li data-v-114c7c2f=\"\" class=\"share-item\">&#13;\n",
      "              <a data-v-114c7c2f=\"\" href=\"\" target=\"_blank\" class=\"share-icon micro-blog\">&#13;\n",
      "              </a>&#13;\n",
      "            </li>&#13;\n",
      "            <li data-v-114c7c2f=\"\" class=\"share-item\">&#13;\n",
      "              <a data-v-114c7c2f=\"\" href=\"\" target=\"_blank\" class=\"share-icon in\">&#13;\n",
      "              </a>&#13;\n",
      "            </li>&#13;\n",
      "            <li data-v-114c7c2f=\"\" class=\"share-item\">&#13;\n",
      "              <a data-v-114c7c2f=\"\" href=\"\" target=\"_blank\" class=\"share-icon facebook\">&#13;\n",
      "              </a>&#13;\n",
      "            </li>&#13;\n",
      "            <li data-v-114c7c2f=\"\" class=\"share-item\">&#13;\n",
      "              <a data-v-114c7c2f=\"\" href=\"\" target=\"_blank\" class=\"share-icon twitter\">&#13;\n",
      "              </a>&#13;\n",
      "            </li>&#13;\n",
      "          </ul>&#13;\n",
      "          <div data-v-114c7c2f=\"\" class=\"link-wrapper\">&#13;\n",
      "            <div data-v-114c7c2f=\"\" class=\"link-text\">岗位链接</div>&#13;\n",
      "            <div data-v-114c7c2f=\"\" class=\"link-ground\">&#13;\n",
      "              <input data-v-114c7c2f=\"\" readonly=\"readonly\" id=\"\" class=\"link input-text\"/>&#13;\n",
      "              <div data-v-114c7c2f=\"\" class=\"copy\">复制链接</div>&#13;\n",
      "            </div>&#13;\n",
      "          </div>&#13;\n",
      "        </div>&#13;\n",
      "      </div>&#13;\n",
      "    </div>&#13;\n",
      "    <div data-v-288d7ecc=\"\" class=\"recruit-collection\">&#13;\n",
      "      <span data-v-288d7ecc=\"\" class=\"icon-collection\">&#13;\n",
      "      </span>&#13;\n",
      "      <span data-v-288d7ecc=\"\" class=\"collection-text\">收藏</span>&#13;\n",
      "    </div>&#13;\n",
      "  </div>&#13;\n",
      "  \n"
     ]
    }
   ],
   "source": [
    "#获取列表中的第二个\n",
    "data = html.xpath('//div[@class=\"recruit-list\"][2]')[0]\n",
    "print(etree.tostring(data,encoding='utf-8').decode('utf-8'))"
   ]
  },
  {
   "cell_type": "code",
   "execution_count": 3,
   "metadata": {},
   "outputs": [
    {
     "name": "stdout",
     "output_type": "stream",
     "text": [
      "https://careers.tencent.com/jobdesc.html?postId=1318796892787712000\n",
      "https://careers.tencent.com/jobdesc.html?postId=1318825301697896448\n",
      "https://careers.tencent.com/jobdesc.html?postId=1318887083753873408\n",
      "https://careers.tencent.com/jobdesc.html?postId=1308047506302574592\n",
      "https://careers.tencent.com/jobdesc.html?postId=1329746102546604032\n",
      "https://careers.tencent.com/jobdesc.html?postId=1329654375789895680\n",
      "https://careers.tencent.com/jobdesc.html?postId=1242636410821808128\n",
      "https://careers.tencent.com/jobdesc.html?postId=1328961232517996544\n",
      "https://careers.tencent.com/jobdesc.html?postId=1275971541930090496\n",
      "https://careers.tencent.com/jobdesc.html?postId=1285478800217350144\n"
     ]
    }
   ],
   "source": [
    "# 4.获取所有class id的值\n",
    "aList = html.xpath('//div[@class=\"qr-code\"]/@id')\n",
    "for a in aList:\n",
    "    print (\"https://careers.tencent.com/jobdesc.html?postId=\"+a)#"
   ]
  },
  {
   "cell_type": "code",
   "execution_count": 4,
   "metadata": {},
   "outputs": [
    {
     "name": "stdout",
     "output_type": "stream",
     "text": [
      "[{'title': '26699-智慧零售数据中心数据开发工程师', 'address': '深圳,中国', 'category': '技术', 'time': '2021年02月14日', 'responsibilities': '负责海量数据实时处理的工具系统的开发建设，支撑零售数据在对内对外各个业务场景使用的设计和开发； 负责腾讯广告一方数据的接入、清洗、存储管理、计算处理和广告业务数据应用分发管道的设计与实现。'}, {'title': '31967-技术中台-后台开发', 'address': '深圳,中国', 'category': '技术', 'time': '2021年02月14日', 'responsibilities': '负责直播合作中心项目开发'}, {'title': 'PCG04-Devops前端高级工程师(代码质量方向)', 'address': '深圳,中国', 'category': '技术', 'time': '2021年02月14日', 'responsibilities': '参与腾讯统一的DevOps工具链建设，构建服务于PCG日常研发的基础设施工具和平台。包括但不限于IDE/本地CLI/ 代码管理工具/代码评审工具/代码分析工具等 重点负责相关工具型产品的WEB前端架构设计、平台建设、关键性能/体验优化'}, {'title': 'SD3-PUBG MOBILE高级客户端开发工程师(深圳)', 'address': '深圳,中国', 'category': '技术', 'time': '2021年02月14日', 'responsibilities': '负责UE4客户端的设计和开发； 与相关同事进行良好的沟通，进行游戏系统开发； 优化工具及工作流程，提高开发效率。'}, {'title': '30628-腾讯广告排序策略算法专家（深圳）', 'address': '深圳,中国', 'category': '技术', 'time': '腾讯广告', 'responsibilities': '1. 负责竞价广告排序策略框架建设和排序机制的设计， 包括但不限于粗选策略优化，精选排序公式和 Auction 机制设计，全链路目标一致性提升等； 2. 采用深度学习预估建模技术，结合大规模分布式训练和特征工程，以及 Explore-Exploit 算法设计优化，持续提升粗选排序模型精准度、泛化能力和计算性能； 3. 深入腾讯广告系统全链路，联动上下游模块开展深入的数据分析和算法策略优化，提升业务问题排查效率和广告投放效果； 4. 和流量方开展深入合作，开展新形态拓展、广告生态优化、用户体验提升等工作，服务流量变现效率和用户体验提升； 5. 跟踪深度学习、计算广告、推荐系统等最新前沿研究成果和竞赛动态，快速实现并落地应用于实际任务中，进而结合实际问题开展数据分析和迭代优化，提出创新性解决方案。'}, {'title': '17757-数据开发', 'address': '北京,中国', 'category': '技术', 'time': '2021年02月14日', 'responsibilities': '负责腾讯新闻综合运营的数据仓库以及运营平台数据展现相关的研发工作'}, {'title': 'TEG04-腾讯乐享Web前端开发工程师(深圳)', 'address': '深圳,中国', 'category': '技术', 'time': '2021年02月14日', 'responsibilities': '负责腾讯乐享PC端和H5端Web前端开发； 负责前端架构设计，通用组件抽象和建设，复杂交互的实现。 腾讯乐享，一站式企业社区，凝聚腾讯10年企业管理经验与精华，通过直播、知识库、问答、课堂、考试、活动、投票和论坛等核心应用，满足企业培训学习、知识管理、文化建设等多元化需求，提供全行业、多场景解决方案，助力企业数字化转型。'}, {'title': 'TEG04-腾讯工蜂运维开发工程师（深圳）', 'address': '深圳,中国', 'category': '技术', 'time': '2021年02月14日', 'responsibilities': '负责容器集群的容量规划、模式改进、性能分析和优化等； 负责容器集群自动化运维支撑平台的设计和开发； 建立数据运营、故障管理体系，实现自动化、智能化运维，促进问题快速发现定位解决；'}, {'title': '21309-在线教育部-客户端研发副总监（深圳）', 'address': '深圳,中国', 'category': '技术', 'time': '2021年02月14日', 'responsibilities': '1、负责在线教育相关产品（腾讯课堂、企鹅辅导、开心鼠ABCmouse等）客户端App（包括Android、iOS、Windows、macOS）的整体架构设计、业务研发和团队管理； 2、负责拉通客户端团队或合作团队，抽离并建立客户端中台能力，以服务于在线教育多个产品； 3、探索未来客户端技术发展趋势，深入跨平台技术，深入音视频技术，逐步提升客户端产品体验和性能； 4、负责建设和优化人才梯队，优化研发流程，提升团队整体研发效能。'}, {'title': '21309-在线教育部-AI智能应用开发工程师（深圳）', 'address': '深圳,中国', 'category': '技术', 'time': '2021年02月14日', 'responsibilities': '1. 负责腾讯课堂、企鹅辅导、腾讯开心鼠等在线教育产品的AI应用的研发； 2. 包括但不限于直播教学、课中评测、课后练习、辅导答疑等场景下的智能批改、智能对话、知识图谱、自适应答题等智能应用。 3. 深度参与业务，技术视角推动产品突破，改进现有系统架构、持续优化现有系统的性能与稳定性；'}]\n"
     ]
    }
   ],
   "source": [
    "#获取职位信息 存文本\n",
    "#在某个标签下，再执行xpath函数， 获取这个标签下的子孙元素\n",
    "#那么应该在//之前加一个点，代表是在当前元素下获取\n",
    "\n",
    "aList = html.xpath('//a[@class=\"recruit-list-link\"]')\n",
    "positions=[]\n",
    "for a in aList:\n",
    "     #print(etree.tostring(a,encoding='utf-8').decode('utf-8'))\n",
    "    #print (\"https://careers.tencent.com/jobdesc.html?postId=\"+a)#\n",
    "    title=a.xpath('./h4//text()')[0]\n",
    "    address=a.xpath('./p[@class=\"recruit-tips\"]/span[2]//text()')[0]\n",
    "    category=a.xpath('./p[@class=\"recruit-tips\"]/span[3]//text()')[0]\n",
    "    time=a.xpath('./p[@class=\"recruit-tips\"]/span[4]//text()')[0]\n",
    "    responsibilities=a.xpath('./p[@class=\"recruit-text\"]//text()')[0]\n",
    "    position={\n",
    "        'title':title,\n",
    "        'address':address,\n",
    "        'category':category,\n",
    "        'time':time,\n",
    "        'responsibilities':responsibilities\n",
    "        \n",
    "    }\n",
    "    positions.append(position)\n",
    "print(positions)"
   ]
  }
 ],
 "metadata": {
  "kernelspec": {
   "display_name": "Python 3",
   "language": "python",
   "name": "python3"
  },
  "language_info": {
   "codemirror_mode": {
    "name": "ipython",
    "version": 3
   },
   "file_extension": ".py",
   "mimetype": "text/x-python",
   "name": "python",
   "nbconvert_exporter": "python",
   "pygments_lexer": "ipython3",
   "version": "3.7.0"
  }
 },
 "nbformat": 4,
 "nbformat_minor": 2
}
