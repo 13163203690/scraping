{
 "cells": [
  {
   "cell_type": "markdown",
   "metadata": {},
   "source": [
    "电影天堂爬虫"
   ]
  },
  {
   "cell_type": "code",
   "execution_count": 1,
   "metadata": {},
   "outputs": [],
   "source": [
    "import requests\n",
    "from lxml import etree\n",
    "#from openpyxl  import Workbook\n",
    "# URL = 'https://dytt8.net/html/gndy/dyzz/list_23_1.html'\n",
    "headers = {\n",
    "    'User-Agent': 'Mozilla/5.0 (Windows NT 10.0; Win64; x64) AppleWebKit/537.36 (KHTML, like Gecko) Chrome/88.0.4324.150 Safari/537.36'\n",
    "    # 'referer': 'https://dytt8.net/html/gndy/dyzz/list_23_2.html'\n",
    "}\n",
    "BASE_DOMIN = 'https://dytt8.net/'\n",
    "\n",
    " \n"
   ]
  },
  {
   "cell_type": "code",
   "execution_count": 2,
   "metadata": {},
   "outputs": [],
   "source": [
    "# 进入详情页获取详细信息\n",
    "def parse_detail_page(url):\n",
    "    response = requests.get(url, headers=headers)\n",
    "    text = response.content.decode('gbk')\n",
    "    html = etree.HTML(text)\n",
    "    title = html.xpath(\"//h1/font[@color='#07519a']/text()\")[0]\n",
    "    ZoomE = html.xpath(\"//div[@id='Zoom']\")[0]\n",
    "    cover = ZoomE.xpath('.//img/@src')\n",
    "    infos = ZoomE.xpath(\".//text()\")\n",
    "    for index, info in enumerate(infos):\n",
    "        if info.startswith(\"◎年　　代\"):\n",
    "            year = info.replace(\"◎年　　代\", \"\").strip()\n",
    "        if info.startswith(\"◎豆瓣评分\"):\n",
    "            douban_rating = info.replace(\"◎豆瓣评分\", '').strip()\n",
    "        if info.startswith(\"◎片　　长\"):\n",
    "            duration=info.replace(\"◎片　　长\", '').strip()\n",
    "            # 获取影片导演\n",
    "        if info.startswith('◎导　　演'):\n",
    "            director = info.replace('◎导　　演', '').strip()\n",
    "        # 获取影片编剧\n",
    "        if info.startswith('◎编　　剧'):\n",
    "            scenarists = [info]\n",
    "            for x in range(index + 1, len(infos)):\n",
    "                scenarist = infos[x]\n",
    "                if scenarist.startswith(\"◎\"):\n",
    "                    break\n",
    "                scenarists.append(scenarist.strip())\n",
    "        if info.startswith(\"◎主　　演\"):\n",
    "            # 从当前位置，一直往下面遍历\n",
    "            actors = [info]\n",
    "            for x in range(index + 1, len(infos)):\n",
    "                actor = infos[x]\n",
    "                if actor.startswith(\"◎\"):\n",
    "                    break\n",
    "                actors.append(actor.strip())\n",
    "            #print(\",\".join(actors))\n",
    "\n",
    "    try:\n",
    "        info = {\n",
    "            'title': title,\n",
    "            'cover': cover,\n",
    "            'year': year,\n",
    "            'duration': duration,  # 部分页面没有\n",
    "            'douban_rating': douban_rating,\n",
    "            'director': director,\n",
    "            'scenarist': scenarist,\n",
    "            'actor': actor,\n",
    "        }\n",
    "    except:\n",
    "        pass\n",
    "    return info\n",
    "    \n",
    "    \n",
    "    \n",
    "    \n",
    "\n",
    "\n",
    "\n"
   ]
  },
  {
   "cell_type": "code",
   "execution_count": 3,
   "metadata": {},
   "outputs": [],
   "source": [
    "# 获取影片的详情页url\n",
    "def get_detail_urls(url):\n",
    "    response = requests.get(url, headers=headers)\n",
    "    text = response.text\n",
    "    # print(text)\n",
    "    html = etree.HTML(text)\n",
    "    detail_urls = html.xpath('//a[@class=\"ulink\"]/@href')\n",
    "    detail_urls = map(lambda url: BASE_DOMIN + url, detail_urls)\n",
    "    # for detail_url in detail_urls:\n",
    "    #     print('get_detail_urls detail_urls ',detail_url)\n",
    "    return detail_urls\n",
    "\n",
    "#将信息写入excel中\n",
    "# def save_excel(infos):\n",
    "#     wb = Workbook()\n",
    "#     dest_filename = '电影天堂最新电影.xlsx'\n",
    "#     ws1 = wb.active\n",
    "#     ws1.title = \"电影\"\n",
    "#\n",
    "#     #打印表头\n",
    "#     _ = ws1.cell(column=1, row=1, value=\"{0}\".format('标题'))\n",
    "#     _ = ws1.cell(column=2, row=1, value=\"{0}\".format('封面URL'))\n",
    "#     _ = ws1.cell(column=3, row=1, value=\"{0}\".format('年份'))\n",
    "#     _ = ws1.cell(column=4, row=1, value=\"{0}\".format('时长'))\n",
    "#     _ = ws1.cell(column=5, row=1, value=\"{0}\".format('导演'))\n",
    "#     _ = ws1.cell(column=6, row=1, value=\"{0}\".format('编剧'))\n",
    "#     _ = ws1.cell(column=7, row=1, value=\"{0}\".format('主演'))\n",
    "#\n",
    "#     row = 2\n",
    "#     for info in infos:\n",
    "#         clo=1\n",
    "#         for key,value in info.items():\n",
    "#             _ = ws1.cell(column=clo, row=row, value=\"{0}\".format(value))\n",
    "#             clo += 1\n",
    "#         row += 1\n",
    "#\n",
    "#     wb.save(filename=dest_filename)"
   ]
  },
  {
   "cell_type": "code",
   "execution_count": 4,
   "metadata": {},
   "outputs": [],
   "source": [
    "def spider():\n",
    "    base_url = 'https://dytt8.net/html/gndy/dyzz/list_23_{}.html'\n",
    "    movies = []\n",
    "    for x in range(1, 4):\n",
    "        print('正在爬取第{}页：'.format(x))\n",
    "        url = base_url.format(x)\n",
    "        detail_urls = get_detail_urls(url)\n",
    "        for detail_url in detail_urls:\n",
    "            #print('spider', detail_url)\n",
    "            movie = parse_detail_page(detail_url)\n",
    "            movies.append(movie )\n",
    "            print(movie)\n",
    "    #save_excel(movies)"
   ]
  },
  {
   "cell_type": "code",
   "execution_count": null,
   "metadata": {},
   "outputs": [
    {
     "name": "stdout",
     "output_type": "stream",
     "text": [
      "正在爬取第1页：\n",
      "{'title': '2021年喜剧《发财日记》HD国语中英双字', 'cover': ['https://img9.doubanio.com/view/photo/l_ratio_poster/public/p2632091530.jpg'], 'year': '2021', 'duration': '128分钟', 'douban_rating': '6.2/10 from 10943 users', 'director': '宋小宝 Xiaobao Song', 'scenarist': '◎主\\u3000\\u3000演\\u3000宋小宝 Xiaobao Song', 'actor': '◎标\\u3000\\u3000签\\u3000喜剧 | 宋小宝 | 沙溢 | 马丽 | 国产电影 | 喜欢宋小宝 | 电影 | 回忆'}\n",
      "{'title': '2021年动作《少林寺之得宝传奇》HD国语中字', 'cover': ['https://img9.doubanio.com/view/photo/l_ratio_poster/public/p2631649666.jpg'], 'year': '2021', 'duration': '93分钟', 'douban_rating': '4.4/10 from 3015 users', 'director': '唐季礼 Stanley Tong', 'scenarist': '◎主\\u3000\\u3000演\\u3000王宝强 Baoqiang Wang', 'actor': '◎标\\u3000\\u3000签\\u3000王宝强 | 功夫 | 动作 | 贺岁 | 电影 | 刘昊然 | 2021 | 吴孟达'}\n",
      "{'title': '2021年喜剧《温暖的抱抱》HD国语中英双字', 'cover': ['https://img9.doubanio.com/view/photo/l_ratio_poster/public/p2618446242.jpg'], 'year': '2020', 'duration': '112分钟', 'douban_rating': '5.6/10 from 104631 users', 'director': '常远 Yuan Chang', 'scenarist': '◎主\\u3000\\u3000演\\u3000常远 Yuan Chang', 'actor': '◎标\\u3000\\u3000签\\u3000喜剧 | 搞笑 | 李沁 | 常远 | 沈腾 | 国产电影 | 中国电影 | 电影'}\n",
      "\n",
      "\n",
      "      \n",
      "{'title': '2018年获奖剧情《登月第一人》BD国英双语双字', 'cover': ['https://img9.doubanio.com/view/photo/l_ratio_poster/public/p2532776305.jpg'], 'year': '2018', 'duration': '141分钟', 'douban_rating': '7.7/10 from 43195 users', 'director': '达米恩·查泽雷 Damien Chazelle', 'scenarist': '◎主\\u3000\\u3000演\\u3000瑞恩·高斯林 Ryan Gosling', 'actor': '◎标\\u3000\\u3000签\\u3000传记 | 美国 | 太空 | 登月 | 真实事件改编 | 历史 | 2018 | 剧情'}\n",
      "{'title': '2020年剧情《热血合唱团》BD国粤双语中字', 'cover': ['https://img9.doubanio.com/view/photo/l_ratio_poster/public/p2623500688.jpg'], 'year': '2020', 'duration': '97分钟', 'douban_rating': '4.8/10 from 9100 users', 'director': '关信辉 Adrian Kwan', 'scenarist': '◎主\\u3000\\u3000演\\u3000刘德华 Andy Lau', 'actor': '◎标\\u3000\\u3000签\\u3000刘德华 | 香港电影 | 文艺 | 音乐 | 香港 | 剧情 | 华语电影 | 感觉会很好看'}\n"
     ]
    }
   ],
   "source": [
    "if __name__ == '__main__':\n",
    "    spider()"
   ]
  }
 ],
 "metadata": {
  "kernelspec": {
   "display_name": "Python 3",
   "language": "python",
   "name": "python3"
  },
  "language_info": {
   "codemirror_mode": {
    "name": "ipython",
    "version": 3
   },
   "file_extension": ".py",
   "mimetype": "text/x-python",
   "name": "python",
   "nbconvert_exporter": "python",
   "pygments_lexer": "ipython3",
   "version": "3.7.0"
  }
 },
 "nbformat": 4,
 "nbformat_minor": 2
}
