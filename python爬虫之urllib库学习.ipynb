{
 "cells": [
  {
   "cell_type": "code",
   "execution_count": 5,
   "metadata": {},
   "outputs": [
    {
     "name": "stdout",
     "output_type": "stream",
     "text": [
      "[b'<!DOCTYPE html><!--STATUS OK-->\\n']\n"
     ]
    }
   ],
   "source": [
    "from urllib.request import urlopen\n",
    " \n",
    "# if has Chinese, apply decode()\n",
    "html = urlopen(\n",
    "    \"http://www.baidu.com/\"\n",
    ").readline().decode('utf-8')\n",
    "print(html)"
   ]
  },
  {
   "cell_type": "code",
   "execution_count": 6,
   "metadata": {},
   "outputs": [
    {
     "name": "stdout",
     "output_type": "stream",
     "text": [
      "b'{\\n  \"args\": {}, \\n  \"data\": \"\", \\n  \"files\": {}, \\n  \"form\": {\\n    \"hello\": \"world\"\\n  }, \\n  \"headers\": {\\n    \"Accept-Encoding\": \"identity\", \\n    \"Content-Length\": \"11\", \\n    \"Content-Type\": \"application/x-www-form-urlencoded\", \\n    \"Host\": \"httpbin.org\", \\n    \"User-Agent\": \"Python-urllib/3.7\", \\n    \"X-Amzn-Trace-Id\": \"Root=1-602749e5-0620d6147b835e301b3b8de3\"\\n  }, \\n  \"json\": null, \\n  \"origin\": \"123.13.122.232\", \\n  \"url\": \"http://httpbin.org/post\"\\n}\\n'\n"
     ]
    }
   ],
   "source": [
    "import urllib.parse\n",
    "import urllib.request\n",
    "data = bytes(urllib.parse.urlencode({'hello':'world'}),encoding='utf-8')\n",
    "reponse = urllib.request.urlopen('http://httpbin.org/post',data=data)\n",
    "print(reponse.read())"
   ]
  },
  {
   "cell_type": "code",
   "execution_count": 7,
   "metadata": {},
   "outputs": [
    {
     "data": {
      "text/plain": [
       "('csdn.html', <http.client.HTTPMessage at 0x1b39277d0f0>)"
      ]
     },
     "execution_count": 7,
     "metadata": {},
     "output_type": "execute_result"
    }
   ],
   "source": [
    "from urllib import request\n",
    " \n",
    "request.urlretrieve(\"https://blog.csdn.net/sereasuesue/category_10790248.html\",'csdn.html')\n",
    " \n",
    "#前面参数是url，后面是保存的路径以及文件名"
   ]
  },
  {
   "cell_type": "code",
   "execution_count": 8,
   "metadata": {},
   "outputs": [
    {
     "name": "stdout",
     "output_type": "stream",
     "text": [
      "name=Demo&age=18\n"
     ]
    }
   ],
   "source": [
    "from urllib import request\n",
    "from urllib import parse\n",
    " \n",
    "params={'name':'Demo',\"age\":18}\n",
    "qs=parse.urlencode(params)\n",
    "print(qs)"
   ]
  },
  {
   "cell_type": "code",
   "execution_count": null,
   "metadata": {},
   "outputs": [],
   "source": []
  },
  {
   "cell_type": "code",
   "execution_count": 9,
   "metadata": {},
   "outputs": [
    {
     "name": "stdout",
     "output_type": "stream",
     "text": [
      "%E8%BF%AA%E4%B8%BD%E7%83%AD%E5%B7%B4\n"
     ]
    }
   ],
   "source": [
    "s=parse.quote('迪丽热巴')\n",
    "print(s)"
   ]
  },
  {
   "cell_type": "markdown",
   "metadata": {},
   "source": [
    "我们复制搜索迪丽热巴的链接如下 发现和转换的一样\n",
    "https://www.baidu.com/s?wd=%E8%BF%AA%E4%B8%BD%E7%83%AD%E5%B7%B4"
   ]
  },
  {
   "cell_type": "code",
   "execution_count": 11,
   "metadata": {},
   "outputs": [
    {
     "name": "stdout",
     "output_type": "stream",
     "text": [
      "迪丽热巴\n"
     ]
    }
   ],
   "source": [
    "n='%E8%BF%AA%E4%B8%BD%E7%83%AD%E5%B7%B4'\n",
    "print(parse.unquote(n))"
   ]
  },
  {
   "cell_type": "code",
   "execution_count": 12,
   "metadata": {},
   "outputs": [
    {
     "name": "stdout",
     "output_type": "stream",
     "text": [
      "{'name': ['爬虫基础'], 'greet': ['hello world'], 'age': ['100']}\n"
     ]
    }
   ],
   "source": [
    "from urllib import parse\n",
    "qs = \"name=%E7%88%AC%E8%99%AB%E5%9F%BA%E7%A1%80&greet=hello+world&age=100\"\n",
    "print(parse.parse_qs(qs))"
   ]
  },
  {
   "cell_type": "markdown",
   "metadata": {},
   "source": [
    "### URL解析函数urlparse"
   ]
  },
  {
   "cell_type": "code",
   "execution_count": 13,
   "metadata": {},
   "outputs": [
    {
     "name": "stdout",
     "output_type": "stream",
     "text": [
      "ParseResult(scheme='https', netloc='baike.baidu.com', path='/item/%E8%BF%AA%E4%B8%BD%E7%83%AD%E5%B7%B4/1180418', params='', query='fr=aladdin', fragment='3')\n",
      "scheme: https\n",
      "netloc: baike.baidu.com\n",
      "path: /item/%E8%BF%AA%E4%B8%BD%E7%83%AD%E5%B7%B4/1180418\n",
      "query: fr=aladdin\n",
      "fragment: 3\n"
     ]
    }
   ],
   "source": [
    "url='https://baike.baidu.com/item/%E8%BF%AA%E4%B8%BD%E7%83%AD%E5%B7%B4/1180418?fr=aladdin#3'\n",
    "result = parse.urlparse(url)\n",
    "print(result)\n",
    "print('scheme:',result.scheme)  #网络协议\n",
    "print('netloc:',result.netloc)  #域名\n",
    "print('path:',result.path)      #文件存放路径\n",
    "print('query:',result.query)    #查询字符\n",
    "print('fragment:',result.fragment)  #拆分文档中的特殊猫"
   ]
  },
  {
   "cell_type": "code",
   "execution_count": 14,
   "metadata": {},
   "outputs": [
    {
     "name": "stdout",
     "output_type": "stream",
     "text": [
      "fragment: \n"
     ]
    }
   ],
   "source": [
    "print('fragment:',result.params)"
   ]
  },
  {
   "cell_type": "markdown",
   "metadata": {},
   "source": [
    "### 分割函数urlsplit"
   ]
  },
  {
   "cell_type": "code",
   "execution_count": 15,
   "metadata": {},
   "outputs": [
    {
     "name": "stdout",
     "output_type": "stream",
     "text": [
      "SplitResult(scheme='https', netloc='baike.baidu.com', path='/item/%E8%BF%AA%E4%B8%BD%E7%83%AD%E5%B7%B4/1180418', query='fr=aladdin', fragment='3')\n",
      "scheme: https\n",
      "netloc: baike.baidu.com\n",
      "path: /item/%E8%BF%AA%E4%B8%BD%E7%83%AD%E5%B7%B4/1180418\n",
      "query: fr=aladdin\n",
      "fragment: 3\n"
     ]
    }
   ],
   "source": [
    "url='https://baike.baidu.com/item/%E8%BF%AA%E4%B8%BD%E7%83%AD%E5%B7%B4/1180418?fr=aladdin#3'\n",
    "result = parse.urlsplit(url)\n",
    "print(result)\n",
    "print('scheme:',result.scheme)  #网络协议\n",
    "print('netloc:',result.netloc)  #域名\n",
    "print('path:',result.path)      #文件存放路径\n",
    "print('query:',result.query)    #查询字符\n",
    "print('fragment:',result.fragment)  #拆分文档中的特殊猫"
   ]
  }
 ],
 "metadata": {
  "kernelspec": {
   "display_name": "Python 3",
   "language": "python",
   "name": "python3"
  },
  "language_info": {
   "codemirror_mode": {
    "name": "ipython",
    "version": 3
   },
   "file_extension": ".py",
   "mimetype": "text/x-python",
   "name": "python",
   "nbconvert_exporter": "python",
   "pygments_lexer": "ipython3",
   "version": "3.7.0"
  }
 },
 "nbformat": 4,
 "nbformat_minor": 2
}
